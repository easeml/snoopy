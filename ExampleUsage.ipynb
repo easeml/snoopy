{
 "cells": [
  {
   "cell_type": "markdown",
   "id": "f2ec10a0",
   "metadata": {},
   "source": [
    "# Example usage of ease.ml/snoopy for feasibility study of ML applications"
   ]
  },
  {
   "cell_type": "markdown",
   "id": "51188570",
   "metadata": {},
   "source": [
    "This example jupyter notebook illustrates how to use the ease.ml/snoopy library to perform an automatic feasibility study."
   ]
  },
  {
   "cell_type": "markdown",
   "id": "90a55cf5",
   "metadata": {},
   "source": [
    "## Required imports\n",
    "\n",
    "Let us start with defining the required imports in order to be able to define the target dataset and the set of pre-trained models (embeddings) used to perform the feasibility study"
   ]
  },
  {
   "cell_type": "code",
   "execution_count": 1,
   "id": "5e546d84",
   "metadata": {},
   "outputs": [
    {
     "name": "stderr",
     "output_type": "stream",
     "text": [
      "\u001b[1;34m[17:49:07]\u001b[0m\u001b[1;33m WARNING Snoopy may use all CPU cores! Set env. variable 'SNOOPY_LIMIT_CPU' to 'y' to limit CPU usage. \u001b[0m\u001b[1;34m(__init__ -> _init_tf_pytorch on MainThread)\u001b[0m\n"
     ]
    }
   ],
   "source": [
    "from collections import OrderedDict\n",
    "from tensorflow_datasets import Split\n",
    "\n",
    "from snoopy.embedding import EmbeddingConfig, uni_se\n",
    "from snoopy.reader import TFDSTextConfig"
   ]
  },
  {
   "cell_type": "markdown",
   "id": "ae49208c",
   "metadata": {},
   "source": [
    "## Configs\n",
    "We next define the dataset (train and test splits) to fuse into the system"
   ]
  },
  {
   "cell_type": "code",
   "execution_count": 2,
   "id": "1affce36",
   "metadata": {},
   "outputs": [],
   "source": [
    "dataset_name = \"imdb_reviews\"\n",
    "train_data = TFDSTextConfig(dataset_name=dataset_name, split=Split.TRAIN)\n",
    "test_data = TFDSTextConfig(dataset_name=dataset_name, split=Split.TEST)\n",
    "classes = 2"
   ]
  },
  {
   "cell_type": "markdown",
   "id": "62daf18d",
   "metadata": {},
   "source": [
    "Then, we define a set of pre-trained models (embeddings) we want to use. Naturally, as we are taking the min over all possible transformations, the more models we specify here the better. Note nevertheless, that each additional model will require more compute time."
   ]
  },
  {
   "cell_type": "code",
   "execution_count": 3,
   "id": "ac3e8ae5",
   "metadata": {},
   "outputs": [],
   "source": [
    "models = OrderedDict({\n",
    "    \"use\": EmbeddingConfig(uni_se, batch_size=10, prefetch_size=1)\n",
    "}) "
   ]
  },
  {
   "cell_type": "markdown",
   "id": "b38faa7f",
   "metadata": {},
   "source": [
    "Finally, define a target error (1 - target accuracy)"
   ]
  },
  {
   "cell_type": "code",
   "execution_count": 4,
   "id": "3509960e",
   "metadata": {},
   "outputs": [],
   "source": [
    "target = 0.1"
   ]
  },
  {
   "cell_type": "markdown",
   "id": "c6057619",
   "metadata": {},
   "source": [
    "## Run Snoopy\n",
    "\n",
    "### Addtional imports"
   ]
  },
  {
   "cell_type": "code",
   "execution_count": 5,
   "id": "42721854",
   "metadata": {},
   "outputs": [],
   "source": [
    "import numpy as np\n",
    "import os\n",
    "import os.path as path\n",
    "import torch as pt\n",
    "\n",
    "from snoopy import set_cache_dir\n",
    "from snoopy.pipeline import run, store_embeddings\n",
    "from snoopy.result import BerStoringObserver\n",
    "from snoopy.strategy import SimpleStrategyConfig"
   ]
  },
  {
   "cell_type": "markdown",
   "id": "38a729f9",
   "metadata": {},
   "source": [
    "### Snoopy settings"
   ]
  },
  {
   "cell_type": "code",
   "execution_count": 6,
   "id": "7d9be767",
   "metadata": {},
   "outputs": [],
   "source": [
    "set_cache_dir(\"cache\")\n",
    "\n",
    "results_folder = \"results\"\n",
    "if not path.exists(results_folder):\n",
    "    os.mkdir(results_folder)"
   ]
  },
  {
   "cell_type": "markdown",
   "id": "315743d4",
   "metadata": {},
   "source": [
    "### Run with Bayer Error Rate (BER) Storing Observer"
   ]
  },
  {
   "cell_type": "code",
   "execution_count": 7,
   "id": "91384edd",
   "metadata": {},
   "outputs": [
    {
     "name": "stderr",
     "output_type": "stream",
     "text": [
      "INFO:absl:No config specified, defaulting to first: imdb_reviews/plain_text\n",
      "INFO:absl:Load dataset info from cache/TFDS_cache/imdb_reviews/plain_text/1.0.0\n",
      "INFO:absl:Reusing dataset imdb_reviews (cache/TFDS_cache/imdb_reviews/plain_text/1.0.0)\n",
      "INFO:absl:Constructing tf.data.Dataset imdb_reviews for split train, from cache/TFDS_cache/imdb_reviews/plain_text/1.0.0\n",
      "\u001b[1;34m[17:49:08]\u001b[0m\u001b[2;37m DEBUG   Loaded text dataset imdb_reviews (split: train) with 25000 points \u001b[0m\u001b[1;34m(tfds -> read_data on MainThread)\u001b[0m\n",
      "INFO:absl:No config specified, defaulting to first: imdb_reviews/plain_text\n",
      "INFO:absl:Load dataset info from cache/TFDS_cache/imdb_reviews/plain_text/1.0.0\n",
      "INFO:absl:Reusing dataset imdb_reviews (cache/TFDS_cache/imdb_reviews/plain_text/1.0.0)\n",
      "INFO:absl:Constructing tf.data.Dataset imdb_reviews for split test, from cache/TFDS_cache/imdb_reviews/plain_text/1.0.0\n",
      "\u001b[1;34m[17:49:08]\u001b[0m\u001b[2;37m DEBUG   Loaded text dataset imdb_reviews (split: test) with 25000 points \u001b[0m\u001b[1;34m(tfds -> read_data on MainThread)\u001b[0m\n",
      "\u001b[1;34m[17:49:08]\u001b[0m\u001b[1;32m INFO    Initializing https://tfhub.dev/google/universal-sentence-encoder/4 on CPU:0 \u001b[0m\u001b[1;34m(tf_hub -> get_instance on MainThread)\u001b[0m\n",
      "INFO:absl:Using cache/TensorFlow_cache to cache modules.\n",
      "\u001b[1;34m[17:49:12]\u001b[0m\u001b[2;37m DEBUG   Preparing test dataset for embedding 'use' \u001b[0m\u001b[1;34m(simple -> execute on MainThread)\u001b[0m\n",
      "/Users/rengglic/repos/snoopy-public/snoopy/embedding/base.py:185: UserWarning: The given NumPy array is not writeable, and PyTorch does not support non-writeable tensors. This means you can write to the underlying (supposedly non-writeable) NumPy array using the tensor. You may want to copy the array to protect its data or make it writeable before converting it to a tensor. This type of warning will be suppressed for the rest of this program. (Triggered internally at  /Users/distiller/project/conda/conda-bld/pytorch_1639180724445/work/torch/csrc/utils/tensor_numpy.cpp:189.)\n",
      "  current_labels = pt.as_tensor(current_labels_np, dtype=pt.int64, device=self._device).view((-1, 1))\n",
      "\u001b[1;34m[17:49:13]\u001b[0m\u001b[2;37m DEBUG   Batches processed: 100 \u001b[0m\u001b[1;34m(base -> _compute_embedding on MainThread)\u001b[0m\n",
      "\u001b[1;34m[17:49:15]\u001b[0m\u001b[2;37m DEBUG   Batches processed: 200 \u001b[0m\u001b[1;34m(base -> _compute_embedding on MainThread)\u001b[0m\n",
      "\u001b[1;34m[17:49:16]\u001b[0m\u001b[2;37m DEBUG   Batches processed: 300 \u001b[0m\u001b[1;34m(base -> _compute_embedding on MainThread)\u001b[0m\n",
      "\u001b[1;34m[17:49:17]\u001b[0m\u001b[2;37m DEBUG   Batches processed: 400 \u001b[0m\u001b[1;34m(base -> _compute_embedding on MainThread)\u001b[0m\n",
      "\u001b[1;34m[17:49:19]\u001b[0m\u001b[2;37m DEBUG   Batches processed: 500 \u001b[0m\u001b[1;34m(base -> _compute_embedding on MainThread)\u001b[0m\n",
      "\u001b[1;34m[17:49:20]\u001b[0m\u001b[2;37m DEBUG   Batches processed: 600 \u001b[0m\u001b[1;34m(base -> _compute_embedding on MainThread)\u001b[0m\n",
      "\u001b[1;34m[17:49:22]\u001b[0m\u001b[2;37m DEBUG   Batches processed: 700 \u001b[0m\u001b[1;34m(base -> _compute_embedding on MainThread)\u001b[0m\n",
      "\u001b[1;34m[17:49:23]\u001b[0m\u001b[2;37m DEBUG   Batches processed: 800 \u001b[0m\u001b[1;34m(base -> _compute_embedding on MainThread)\u001b[0m\n",
      "\u001b[1;34m[17:49:24]\u001b[0m\u001b[2;37m DEBUG   Batches processed: 900 \u001b[0m\u001b[1;34m(base -> _compute_embedding on MainThread)\u001b[0m\n",
      "\u001b[1;34m[17:49:25]\u001b[0m\u001b[2;37m DEBUG   Batches processed: 1000 \u001b[0m\u001b[1;34m(base -> _compute_embedding on MainThread)\u001b[0m\n",
      "\u001b[1;34m[17:49:26]\u001b[0m\u001b[2;37m DEBUG   Batches processed: 1100 \u001b[0m\u001b[1;34m(base -> _compute_embedding on MainThread)\u001b[0m\n",
      "\u001b[1;34m[17:49:27]\u001b[0m\u001b[2;37m DEBUG   Batches processed: 1200 \u001b[0m\u001b[1;34m(base -> _compute_embedding on MainThread)\u001b[0m\n",
      "\u001b[1;34m[17:49:28]\u001b[0m\u001b[2;37m DEBUG   Batches processed: 1300 \u001b[0m\u001b[1;34m(base -> _compute_embedding on MainThread)\u001b[0m\n",
      "\u001b[1;34m[17:49:29]\u001b[0m\u001b[2;37m DEBUG   Batches processed: 1400 \u001b[0m\u001b[1;34m(base -> _compute_embedding on MainThread)\u001b[0m\n",
      "\u001b[1;34m[17:49:30]\u001b[0m\u001b[2;37m DEBUG   Batches processed: 1500 \u001b[0m\u001b[1;34m(base -> _compute_embedding on MainThread)\u001b[0m\n",
      "\u001b[1;34m[17:49:31]\u001b[0m\u001b[2;37m DEBUG   Batches processed: 1600 \u001b[0m\u001b[1;34m(base -> _compute_embedding on MainThread)\u001b[0m\n",
      "\u001b[1;34m[17:49:31]\u001b[0m\u001b[2;37m DEBUG   Batches processed: 1700 \u001b[0m\u001b[1;34m(base -> _compute_embedding on MainThread)\u001b[0m\n",
      "\u001b[1;34m[17:49:32]\u001b[0m\u001b[2;37m DEBUG   Batches processed: 1800 \u001b[0m\u001b[1;34m(base -> _compute_embedding on MainThread)\u001b[0m\n",
      "\u001b[1;34m[17:49:33]\u001b[0m\u001b[2;37m DEBUG   Batches processed: 1900 \u001b[0m\u001b[1;34m(base -> _compute_embedding on MainThread)\u001b[0m\n",
      "\u001b[1;34m[17:49:34]\u001b[0m\u001b[2;37m DEBUG   Batches processed: 2000 \u001b[0m\u001b[1;34m(base -> _compute_embedding on MainThread)\u001b[0m\n",
      "\u001b[1;34m[17:49:35]\u001b[0m\u001b[2;37m DEBUG   Batches processed: 2100 \u001b[0m\u001b[1;34m(base -> _compute_embedding on MainThread)\u001b[0m\n",
      "\u001b[1;34m[17:49:36]\u001b[0m\u001b[2;37m DEBUG   Batches processed: 2200 \u001b[0m\u001b[1;34m(base -> _compute_embedding on MainThread)\u001b[0m\n",
      "\u001b[1;34m[17:49:38]\u001b[0m\u001b[2;37m DEBUG   Batches processed: 2300 \u001b[0m\u001b[1;34m(base -> _compute_embedding on MainThread)\u001b[0m\n",
      "\u001b[1;34m[17:49:38]\u001b[0m\u001b[2;37m DEBUG   Batches processed: 2400 \u001b[0m\u001b[1;34m(base -> _compute_embedding on MainThread)\u001b[0m\n",
      "\u001b[1;34m[17:49:40]\u001b[0m\u001b[2;37m DEBUG   Average feature retrieve time was  0.001 seconds \u001b[0m\u001b[1;34m(base -> _compute_embedding on MainThread)\u001b[0m\n",
      "\u001b[1;34m[17:49:40]\u001b[0m\u001b[2;37m DEBUG   Test dataset for embedding 'use' is now prepared \u001b[0m\u001b[1;34m(simple -> execute on MainThread)\u001b[0m\n",
      "\u001b[1;34m[17:49:40]\u001b[0m\u001b[1;32m INFO    Current result: \n",
      "\tuse: PR(n=0, err=25000) \u001b[0m\u001b[1;34m(result -> on_update on MainThread)\u001b[0m\n",
      "\u001b[1;34m[17:49:41]\u001b[0m\u001b[2;37m DEBUG   Average feature retrieve time was  0.006 seconds \u001b[0m\u001b[1;34m(base -> _compute_embedding on MainThread)\u001b[0m\n",
      "\u001b[1;34m[17:49:42]\u001b[0m\u001b[1;32m INFO    Current result: \n",
      "\tuse: PR(n=1000, err=7999) \u001b[0m\u001b[1;34m(result -> on_update on MainThread)\u001b[0m\n",
      "\u001b[1;34m[17:49:43]\u001b[0m\u001b[2;37m DEBUG   Average feature retrieve time was  0.000 seconds \u001b[0m\u001b[1;34m(base -> _compute_embedding on MainThread)\u001b[0m\n",
      "\u001b[1;34m[17:49:43]\u001b[0m\u001b[1;32m INFO    Current result: \n",
      "\tuse: PR(n=2000, err=7618) \u001b[0m\u001b[1;34m(result -> on_update on MainThread)\u001b[0m\n",
      "\u001b[1;34m[17:49:44]\u001b[0m\u001b[2;37m DEBUG   Average feature retrieve time was  0.000 seconds \u001b[0m\u001b[1;34m(base -> _compute_embedding on MainThread)\u001b[0m\n",
      "\u001b[1;34m[17:49:44]\u001b[0m\u001b[1;32m INFO    Current result: \n",
      "\tuse: PR(n=3000, err=7450) \u001b[0m\u001b[1;34m(result -> on_update on MainThread)\u001b[0m\n",
      "\u001b[1;34m[17:49:45]\u001b[0m\u001b[2;37m DEBUG   Average feature retrieve time was  0.000 seconds \u001b[0m\u001b[1;34m(base -> _compute_embedding on MainThread)\u001b[0m\n",
      "\u001b[1;34m[17:49:45]\u001b[0m\u001b[1;32m INFO    Current result: \n",
      "\tuse: PR(n=4000, err=7400) \u001b[0m\u001b[1;34m(result -> on_update on MainThread)\u001b[0m\n",
      "\u001b[1;34m[17:49:46]\u001b[0m\u001b[2;37m DEBUG   Average feature retrieve time was  0.000 seconds \u001b[0m\u001b[1;34m(base -> _compute_embedding on MainThread)\u001b[0m\n",
      "\u001b[1;34m[17:49:47]\u001b[0m\u001b[1;32m INFO    Current result: \n",
      "\tuse: PR(n=5000, err=7314) \u001b[0m\u001b[1;34m(result -> on_update on MainThread)\u001b[0m\n",
      "\u001b[1;34m[17:49:48]\u001b[0m\u001b[2;37m DEBUG   Average feature retrieve time was  0.000 seconds \u001b[0m\u001b[1;34m(base -> _compute_embedding on MainThread)\u001b[0m\n",
      "\u001b[1;34m[17:49:48]\u001b[0m\u001b[1;32m INFO    Current result: \n",
      "\tuse: PR(n=6000, err=7218) \u001b[0m\u001b[1;34m(result -> on_update on MainThread)\u001b[0m\n",
      "\u001b[1;34m[17:49:49]\u001b[0m\u001b[2;37m DEBUG   Average feature retrieve time was  0.000 seconds \u001b[0m\u001b[1;34m(base -> _compute_embedding on MainThread)\u001b[0m\n",
      "\u001b[1;34m[17:49:49]\u001b[0m\u001b[1;32m INFO    Current result: \n",
      "\tuse: PR(n=7000, err=7122) \u001b[0m\u001b[1;34m(result -> on_update on MainThread)\u001b[0m\n",
      "\u001b[1;34m[17:49:50]\u001b[0m\u001b[2;37m DEBUG   Average feature retrieve time was  0.000 seconds \u001b[0m\u001b[1;34m(base -> _compute_embedding on MainThread)\u001b[0m\n",
      "\u001b[1;34m[17:49:51]\u001b[0m\u001b[1;32m INFO    Current result: \n",
      "\tuse: PR(n=8000, err=7055) \u001b[0m\u001b[1;34m(result -> on_update on MainThread)\u001b[0m\n",
      "\u001b[1;34m[17:49:52]\u001b[0m\u001b[2;37m DEBUG   Average feature retrieve time was  0.000 seconds \u001b[0m\u001b[1;34m(base -> _compute_embedding on MainThread)\u001b[0m\n",
      "\u001b[1;34m[17:49:52]\u001b[0m\u001b[1;32m INFO    Current result: \n",
      "\tuse: PR(n=9000, err=7042) \u001b[0m\u001b[1;34m(result -> on_update on MainThread)\u001b[0m\n",
      "\u001b[1;34m[17:49:53]\u001b[0m\u001b[2;37m DEBUG   Average feature retrieve time was  0.000 seconds \u001b[0m\u001b[1;34m(base -> _compute_embedding on MainThread)\u001b[0m\n",
      "\u001b[1;34m[17:49:53]\u001b[0m\u001b[1;32m INFO    Current result: \n",
      "\tuse: PR(n=10000, err=7039) \u001b[0m\u001b[1;34m(result -> on_update on MainThread)\u001b[0m\n",
      "\u001b[1;34m[17:49:54]\u001b[0m\u001b[2;37m DEBUG   Average feature retrieve time was  0.000 seconds \u001b[0m\u001b[1;34m(base -> _compute_embedding on MainThread)\u001b[0m\n"
     ]
    },
    {
     "name": "stderr",
     "output_type": "stream",
     "text": [
      "\u001b[1;34m[17:49:54]\u001b[0m\u001b[1;32m INFO    Current result: \n",
      "\tuse: PR(n=11000, err=6953) \u001b[0m\u001b[1;34m(result -> on_update on MainThread)\u001b[0m\n",
      "\u001b[1;34m[17:49:55]\u001b[0m\u001b[2;37m DEBUG   Average feature retrieve time was  0.000 seconds \u001b[0m\u001b[1;34m(base -> _compute_embedding on MainThread)\u001b[0m\n",
      "\u001b[1;34m[17:49:56]\u001b[0m\u001b[1;32m INFO    Current result: \n",
      "\tuse: PR(n=12000, err=6918) \u001b[0m\u001b[1;34m(result -> on_update on MainThread)\u001b[0m\n",
      "\u001b[1;34m[17:49:57]\u001b[0m\u001b[2;37m DEBUG   Average feature retrieve time was  0.000 seconds \u001b[0m\u001b[1;34m(base -> _compute_embedding on MainThread)\u001b[0m\n",
      "\u001b[1;34m[17:49:57]\u001b[0m\u001b[1;32m INFO    Current result: \n",
      "\tuse: PR(n=13000, err=6918) \u001b[0m\u001b[1;34m(result -> on_update on MainThread)\u001b[0m\n",
      "\u001b[1;34m[17:49:58]\u001b[0m\u001b[2;37m DEBUG   Average feature retrieve time was  0.000 seconds \u001b[0m\u001b[1;34m(base -> _compute_embedding on MainThread)\u001b[0m\n",
      "\u001b[1;34m[17:49:58]\u001b[0m\u001b[1;32m INFO    Current result: \n",
      "\tuse: PR(n=14000, err=6879) \u001b[0m\u001b[1;34m(result -> on_update on MainThread)\u001b[0m\n",
      "\u001b[1;34m[17:49:59]\u001b[0m\u001b[2;37m DEBUG   Average feature retrieve time was  0.000 seconds \u001b[0m\u001b[1;34m(base -> _compute_embedding on MainThread)\u001b[0m\n",
      "\u001b[1;34m[17:50:00]\u001b[0m\u001b[1;32m INFO    Current result: \n",
      "\tuse: PR(n=15000, err=6855) \u001b[0m\u001b[1;34m(result -> on_update on MainThread)\u001b[0m\n",
      "\u001b[1;34m[17:50:01]\u001b[0m\u001b[2;37m DEBUG   Average feature retrieve time was  0.000 seconds \u001b[0m\u001b[1;34m(base -> _compute_embedding on MainThread)\u001b[0m\n",
      "\u001b[1;34m[17:50:01]\u001b[0m\u001b[1;32m INFO    Current result: \n",
      "\tuse: PR(n=16000, err=6810) \u001b[0m\u001b[1;34m(result -> on_update on MainThread)\u001b[0m\n",
      "\u001b[1;34m[17:50:02]\u001b[0m\u001b[2;37m DEBUG   Average feature retrieve time was  0.000 seconds \u001b[0m\u001b[1;34m(base -> _compute_embedding on MainThread)\u001b[0m\n",
      "\u001b[1;34m[17:50:02]\u001b[0m\u001b[1;32m INFO    Current result: \n",
      "\tuse: PR(n=17000, err=6805) \u001b[0m\u001b[1;34m(result -> on_update on MainThread)\u001b[0m\n",
      "\u001b[1;34m[17:50:03]\u001b[0m\u001b[2;37m DEBUG   Average feature retrieve time was  0.000 seconds \u001b[0m\u001b[1;34m(base -> _compute_embedding on MainThread)\u001b[0m\n",
      "\u001b[1;34m[17:50:04]\u001b[0m\u001b[1;32m INFO    Current result: \n",
      "\tuse: PR(n=18000, err=6803) \u001b[0m\u001b[1;34m(result -> on_update on MainThread)\u001b[0m\n",
      "\u001b[1;34m[17:50:04]\u001b[0m\u001b[2;37m DEBUG   Average feature retrieve time was  0.000 seconds \u001b[0m\u001b[1;34m(base -> _compute_embedding on MainThread)\u001b[0m\n",
      "\u001b[1;34m[17:50:05]\u001b[0m\u001b[1;32m INFO    Current result: \n",
      "\tuse: PR(n=19000, err=6767) \u001b[0m\u001b[1;34m(result -> on_update on MainThread)\u001b[0m\n",
      "\u001b[1;34m[17:50:06]\u001b[0m\u001b[2;37m DEBUG   Average feature retrieve time was  0.000 seconds \u001b[0m\u001b[1;34m(base -> _compute_embedding on MainThread)\u001b[0m\n",
      "\u001b[1;34m[17:50:06]\u001b[0m\u001b[1;32m INFO    Current result: \n",
      "\tuse: PR(n=20000, err=6797) \u001b[0m\u001b[1;34m(result -> on_update on MainThread)\u001b[0m\n",
      "\u001b[1;34m[17:50:07]\u001b[0m\u001b[2;37m DEBUG   Average feature retrieve time was  0.000 seconds \u001b[0m\u001b[1;34m(base -> _compute_embedding on MainThread)\u001b[0m\n",
      "\u001b[1;34m[17:50:07]\u001b[0m\u001b[1;32m INFO    Current result: \n",
      "\tuse: PR(n=21000, err=6762) \u001b[0m\u001b[1;34m(result -> on_update on MainThread)\u001b[0m\n",
      "\u001b[1;34m[17:50:08]\u001b[0m\u001b[2;37m DEBUG   Average feature retrieve time was  0.000 seconds \u001b[0m\u001b[1;34m(base -> _compute_embedding on MainThread)\u001b[0m\n",
      "\u001b[1;34m[17:50:09]\u001b[0m\u001b[1;32m INFO    Current result: \n",
      "\tuse: PR(n=22000, err=6752) \u001b[0m\u001b[1;34m(result -> on_update on MainThread)\u001b[0m\n",
      "\u001b[1;34m[17:50:10]\u001b[0m\u001b[2;37m DEBUG   Average feature retrieve time was  0.000 seconds \u001b[0m\u001b[1;34m(base -> _compute_embedding on MainThread)\u001b[0m\n",
      "\u001b[1;34m[17:50:10]\u001b[0m\u001b[1;32m INFO    Current result: \n",
      "\tuse: PR(n=23000, err=6752) \u001b[0m\u001b[1;34m(result -> on_update on MainThread)\u001b[0m\n",
      "\u001b[1;34m[17:50:11]\u001b[0m\u001b[2;37m DEBUG   Average feature retrieve time was  0.000 seconds \u001b[0m\u001b[1;34m(base -> _compute_embedding on MainThread)\u001b[0m\n",
      "\u001b[1;34m[17:50:11]\u001b[0m\u001b[1;32m INFO    Current result: \n",
      "\tuse: PR(n=24000, err=6747) \u001b[0m\u001b[1;34m(result -> on_update on MainThread)\u001b[0m\n",
      "\u001b[1;34m[17:50:12]\u001b[0m\u001b[2;37m DEBUG   Average feature retrieve time was  0.000 seconds \u001b[0m\u001b[1;34m(base -> _compute_embedding on MainThread)\u001b[0m\n",
      "\u001b[1;34m[17:50:13]\u001b[0m\u001b[1;32m INFO    Current result: \n",
      "\tuse: PR(n=25000, err=6711) \u001b[0m\u001b[1;34m(result -> on_update on MainThread)\u001b[0m\n"
     ]
    }
   ],
   "source": [
    "observer = BerStoringObserver(classes)\n",
    "\n",
    "run(train_data_config=train_data,\n",
    "    test_data_config=test_data,\n",
    "    embedding_configs=models,\n",
    "    strategy_config=SimpleStrategyConfig(train_size=1000, test_size=5_000),\n",
    "    observer=observer,\n",
    "    device=pt.device(\"cpu\"))"
   ]
  },
  {
   "cell_type": "markdown",
   "id": "53bf788e",
   "metadata": {},
   "source": [
    "### Store the results into the results folder"
   ]
  },
  {
   "cell_type": "code",
   "execution_count": 8,
   "id": "90e375a3",
   "metadata": {},
   "outputs": [
    {
     "name": "stderr",
     "output_type": "stream",
     "text": [
      "\u001b[1;34m[17:50:13]\u001b[0m\u001b[2;37m DEBUG   Storing embedding 'use' to file 'use' \u001b[0m\u001b[1;34m(result -> store on MainThread)\u001b[0m\n"
     ]
    }
   ],
   "source": [
    "observer.store(results_folder)"
   ]
  },
  {
   "cell_type": "markdown",
   "id": "35cee9a6",
   "metadata": {},
   "source": [
    "## Use the output of snoopy (BER estimate and plots)\n",
    "\n",
    "As snoopy does output results in files, we next show how to use the results (BER estimate) and plots to guid users towards feasibility study."
   ]
  },
  {
   "cell_type": "code",
   "execution_count": 9,
   "id": "2197dd02",
   "metadata": {},
   "outputs": [
    {
     "name": "stdout",
     "output_type": "stream",
     "text": [
      "Minimal error achievable is 0.1597\n"
     ]
    }
   ],
   "source": [
    "# Set the random baseline as min achievable error first, then iterate over all models\n",
    "min_error = (classes - 1.0) / float(classes)\n",
    "for k in models.keys():\n",
    "    f = path.join(results_folder, \"{0}.npz\".format(k))\n",
    "    if path.exists(f):\n",
    "        items = np.load(f)\n",
    "        error = items['ber'][-1]\n",
    "        min_error = min(min_error, error)\n",
    "\n",
    "print('Minimal error achievable is {0:.4f}'.format(min_error))"
   ]
  },
  {
   "cell_type": "markdown",
   "id": "dccb8920",
   "metadata": {},
   "source": [
    "This means, that every target error above this value would be treated as _feasible_, and every target error below this value as _infeasible_."
   ]
  },
  {
   "cell_type": "code",
   "execution_count": 10,
   "id": "7324251c",
   "metadata": {},
   "outputs": [
    {
     "name": "stdout",
     "output_type": "stream",
     "text": [
      "Target Achievable:  False\n"
     ]
    }
   ],
   "source": [
    "print('Target Achievable: ', target > min_error)"
   ]
  },
  {
   "cell_type": "markdown",
   "id": "50106f90",
   "metadata": {},
   "source": [
    "To trust, or ignore the signal of snoopy, one typically also inspects the convergence plots:"
   ]
  },
  {
   "cell_type": "code",
   "execution_count": 13,
   "id": "cb57f5fe",
   "metadata": {},
   "outputs": [
    {
     "data": {
      "text/plain": [
       "[None, None]"
      ]
     },
     "execution_count": 13,
     "metadata": {},
     "output_type": "execute_result"
    },
    {
     "data": {
      "image/png": "[encoded data removed]",
      "text/plain": [
       "<Figure size 504x360 with 1 Axes>"
      ]
     },
     "metadata": {},
     "output_type": "display_data"
    }
   ],
   "source": [
    "import matplotlib.pyplot as plt\n",
    "import seaborn as sns\n",
    "\n",
    "sns.set(font=\"lato\")\n",
    "sns.set_context(\"paper\")\n",
    "sns.set_style(\"whitegrid\")\n",
    "sns.set(font_scale=1.5)\n",
    "\n",
    "min_tn = (classes - 1.0) / float(classes)\n",
    "train_size = 0\n",
    "f = plt.figure(figsize=(7, 5))\n",
    "for idx, k in enumerate(models.keys()):\n",
    "    f = path.join(results_folder, \"{0}.npz\".format(k))\n",
    "    if not path.exists(f):\n",
    "        continue\n",
    "        \n",
    "    items = np.load(f)\n",
    "\n",
    "    ax = sns.lineplot(x=items['n'][1:], y=items['ber'][1:])\n",
    "\n",
    "    min_tn = min(min_tn, min(items['ber'][1:]))\n",
    "    train_size = max(train_size, max(items['n'][1:]))\n",
    "\n",
    "    ax.lines[-1].set_linestyle(\"--\")\n",
    "    ax.lines[-1].set_label(\"{}\".format(k))\n",
    "\n",
    "if target is not None:\n",
    "  x = [0, train_size]\n",
    "  sns.lineplot(x=x, y=[target]*len(x), ax=ax)\n",
    "  ax.lines[-1].set_color(\"Blue\")\n",
    "  ax.lines[-1].set_linestyle(\"--\")\n",
    "  ax.lines[-1].set_label(\"Target Error\")\n",
    "\n",
    "ax.legend()\n",
    "\n",
    "ax.set_ylim(0.0, min(1.0, max(target, min_tn)*2.0))\n",
    "ax.set_ylabel(\"BER Estimation\")\n",
    "ax.set_xlabel(\"Train Samples\")\n",
    "\n",
    "plt.setp(ax.get_legend().get_texts(), fontsize='12') # for legend text\n",
    "plt.setp(ax.get_legend().get_title(), fontsize='14') # for legend title"
   ]
  },
  {
   "cell_type": "markdown",
   "id": "87fa0f1c",
   "metadata": {},
   "source": [
    "## Explanations\n",
    "\n",
    "The plot above could indicate that it is very likely that with more samples, the curve using ```use``` as an embedding will converge below the target error and hence be feasible. This highlights on point of failure. Generally, if the best embedding did not converge, one would want to gather more data to have a decisive answer. On the other hand, if a curve converged, but above a target accuracy, the negative answer could still be off (false negative). This happens if the transformation bias increased the BER significantly (e.g., because it was trained on a too different soruce distributtion).\n",
    "False positive also can occure, although rarely seen in practice. The estimated bounds are lower bounds on the _true_ BER. It is known that these bounds are not tight always, therefore resulting in an overly optimistic answer."
   ]
  },
  {
   "cell_type": "code",
   "execution_count": null,
   "id": "2a3cd42b",
   "metadata": {},
   "outputs": [],
   "source": []
  }
 ],
 "metadata": {
  "kernelspec": {
   "display_name": "Python 3",
   "language": "python",
   "name": "python3"
  },
  "language_info": {
   "codemirror_mode": {
    "name": "ipython",
    "version": 3
   },
   "file_extension": ".py",
   "mimetype": "text/x-python",
   "name": "python",
   "nbconvert_exporter": "python",
   "pygments_lexer": "ipython3",
   "version": "3.7.11"
  }
 },
 "nbformat": 4,
 "nbformat_minor": 5
}
